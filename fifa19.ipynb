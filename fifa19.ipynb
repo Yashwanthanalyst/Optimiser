{
 "cells": [
  {
   "cell_type": "markdown",
   "metadata": {},
   "source": [
    "# Objective"
   ]
  },
  {
   "cell_type": "markdown",
   "metadata": {},
   "source": [
    "This Jupyter notebook demonstrates a simple application of the PuLP Python module to the Fifa 19 dataset shared on Kaggle using Pandas dataframe. Specifically, I seek to maximise the aggregate overall rating of players in a team constrained by a finite budget and team's playing style.\n",
    "\n",
    "Dataset available here: https://www.kaggle.com/karangadiya/fifa19"
   ]
  },
  {
   "cell_type": "markdown",
   "metadata": {},
   "source": [
    "## Step 1: Import Python modules for project"
   ]
  },
  {
   "cell_type": "code",
   "execution_count": 1,
   "metadata": {},
   "outputs": [],
   "source": [
    "import pulp as p\n",
    "import pandas as pd"
   ]
  },
  {
   "cell_type": "markdown",
   "metadata": {},
   "source": [
    "## Step 2: Read data file\n",
    "\n",
    "Rather than parsing the entire data file`archive.zip` into a Pandas dataframe, I specify a list `columns` that contains strings of column names I will consider in my optimisation problem to reduce memory size of my dataframe."
   ]
  },
  {
   "cell_type": "code",
   "execution_count": 2,
   "metadata": {},
   "outputs": [],
   "source": [
    "columns = ['Name', 'Age', 'Club', 'Wage', 'Overall', 'Potential', 'Position']\n",
    "\n",
    "df = pd.read_csv('archive.zip', usecols=columns)"
   ]
  },
  {
   "cell_type": "markdown",
   "metadata": {},
   "source": [
    "## Step 3: Data cleaning\n",
    "\n",
    "Before we dive into analysis, I perform some pre-processing on the data to help with my analysis later."
   ]
  },
  {
   "cell_type": "code",
   "execution_count": 3,
   "metadata": {},
   "outputs": [],
   "source": [
    "# remove rows with missing values\n",
    "df = df.dropna()\n",
    "\n",
    "# lower case column names and replace space with underscore\n",
    "df.columns = [column.lower().replace(' ', '_') for column in df.columns]"
   ]
  },
  {
   "cell_type": "markdown",
   "metadata": {},
   "source": [
    "## Step 4: Exploratory analysis\n",
    "\n",
    "In this section, I provide descriptive statistics on key variables."
   ]
  },
  {
   "cell_type": "markdown",
   "metadata": {},
   "source": [
    "### `overall` - player's overall rating\n",
    "\n",
    "A summary of the top-rated players in Fifa 19:"
   ]
  },
  {
   "cell_type": "code",
   "execution_count": 4,
   "metadata": {},
   "outputs": [
    {
     "data": {
      "text/html": [
       "<div>\n",
       "<style scoped>\n",
       "    .dataframe tbody tr th:only-of-type {\n",
       "        vertical-align: middle;\n",
       "    }\n",
       "\n",
       "    .dataframe tbody tr th {\n",
       "        vertical-align: top;\n",
       "    }\n",
       "\n",
       "    .dataframe thead th {\n",
       "        text-align: right;\n",
       "    }\n",
       "</style>\n",
       "<table border=\"1\" class=\"dataframe\">\n",
       "  <thead>\n",
       "    <tr style=\"text-align: right;\">\n",
       "      <th></th>\n",
       "      <th>name</th>\n",
       "      <th>overall</th>\n",
       "      <th>wage</th>\n",
       "    </tr>\n",
       "  </thead>\n",
       "  <tbody>\n",
       "    <tr>\n",
       "      <th>0</th>\n",
       "      <td>L. Messi</td>\n",
       "      <td>94</td>\n",
       "      <td>€565K</td>\n",
       "    </tr>\n",
       "    <tr>\n",
       "      <th>1</th>\n",
       "      <td>Cristiano Ronaldo</td>\n",
       "      <td>94</td>\n",
       "      <td>€405K</td>\n",
       "    </tr>\n",
       "    <tr>\n",
       "      <th>2</th>\n",
       "      <td>Neymar Jr</td>\n",
       "      <td>92</td>\n",
       "      <td>€290K</td>\n",
       "    </tr>\n",
       "    <tr>\n",
       "      <th>3</th>\n",
       "      <td>De Gea</td>\n",
       "      <td>91</td>\n",
       "      <td>€260K</td>\n",
       "    </tr>\n",
       "    <tr>\n",
       "      <th>4</th>\n",
       "      <td>K. De Bruyne</td>\n",
       "      <td>91</td>\n",
       "      <td>€355K</td>\n",
       "    </tr>\n",
       "    <tr>\n",
       "      <th>5</th>\n",
       "      <td>E. Hazard</td>\n",
       "      <td>91</td>\n",
       "      <td>€340K</td>\n",
       "    </tr>\n",
       "    <tr>\n",
       "      <th>6</th>\n",
       "      <td>L. Modrić</td>\n",
       "      <td>91</td>\n",
       "      <td>€420K</td>\n",
       "    </tr>\n",
       "    <tr>\n",
       "      <th>7</th>\n",
       "      <td>L. Suárez</td>\n",
       "      <td>91</td>\n",
       "      <td>€455K</td>\n",
       "    </tr>\n",
       "    <tr>\n",
       "      <th>8</th>\n",
       "      <td>Sergio Ramos</td>\n",
       "      <td>91</td>\n",
       "      <td>€380K</td>\n",
       "    </tr>\n",
       "    <tr>\n",
       "      <th>12</th>\n",
       "      <td>D. Godín</td>\n",
       "      <td>90</td>\n",
       "      <td>€125K</td>\n",
       "    </tr>\n",
       "  </tbody>\n",
       "</table>\n",
       "</div>"
      ],
      "text/plain": [
       "                 name  overall   wage\n",
       "0            L. Messi       94  €565K\n",
       "1   Cristiano Ronaldo       94  €405K\n",
       "2           Neymar Jr       92  €290K\n",
       "3              De Gea       91  €260K\n",
       "4        K. De Bruyne       91  €355K\n",
       "5           E. Hazard       91  €340K\n",
       "6           L. Modrić       91  €420K\n",
       "7           L. Suárez       91  €455K\n",
       "8        Sergio Ramos       91  €380K\n",
       "12           D. Godín       90  €125K"
      ]
     },
     "execution_count": 4,
     "metadata": {},
     "output_type": "execute_result"
    }
   ],
   "source": [
    "df.sort_values('overall', ascending=False).head(10)[['name', 'overall', 'wage']]"
   ]
  },
  {
   "cell_type": "markdown",
   "metadata": {},
   "source": [
    "There aren't too many surprises here - from glancing at the table above, offensive players appear to be better remunerated than defensive players."
   ]
  },
  {
   "cell_type": "markdown",
   "metadata": {},
   "source": [
    "### `wage` - player's weekly wage\n",
    "\n",
    "From the table above, we see that wage is suffixed by the Euro currency symbol \"€\" and prefixed by \"K\" representing one thousand. This is verified by viewing unique first and last characters:"
   ]
  },
  {
   "cell_type": "code",
   "execution_count": 5,
   "metadata": {},
   "outputs": [
    {
     "data": {
      "text/plain": [
       "(array(['€'], dtype=object), array(['K'], dtype=object))"
      ]
     },
     "execution_count": 5,
     "metadata": {},
     "output_type": "execute_result"
    }
   ],
   "source": [
    "df['wage'].str[0].unique(), df['wage'].str[-1].unique()"
   ]
  },
  {
   "cell_type": "markdown",
   "metadata": {},
   "source": [
    "To compare wages among players, I remove the first and last characters of each observation. The data is subsequently rendered into `float` type."
   ]
  },
  {
   "cell_type": "code",
   "execution_count": 6,
   "metadata": {},
   "outputs": [
    {
     "data": {
      "text/html": [
       "<div>\n",
       "<style scoped>\n",
       "    .dataframe tbody tr th:only-of-type {\n",
       "        vertical-align: middle;\n",
       "    }\n",
       "\n",
       "    .dataframe tbody tr th {\n",
       "        vertical-align: top;\n",
       "    }\n",
       "\n",
       "    .dataframe thead th {\n",
       "        text-align: right;\n",
       "    }\n",
       "</style>\n",
       "<table border=\"1\" class=\"dataframe\">\n",
       "  <thead>\n",
       "    <tr style=\"text-align: right;\">\n",
       "      <th></th>\n",
       "      <th>name</th>\n",
       "      <th>wage_dollar</th>\n",
       "    </tr>\n",
       "  </thead>\n",
       "  <tbody>\n",
       "    <tr>\n",
       "      <th>0</th>\n",
       "      <td>L. Messi</td>\n",
       "      <td>565000.0</td>\n",
       "    </tr>\n",
       "    <tr>\n",
       "      <th>7</th>\n",
       "      <td>L. Suárez</td>\n",
       "      <td>455000.0</td>\n",
       "    </tr>\n",
       "    <tr>\n",
       "      <th>6</th>\n",
       "      <td>L. Modrić</td>\n",
       "      <td>420000.0</td>\n",
       "    </tr>\n",
       "    <tr>\n",
       "      <th>1</th>\n",
       "      <td>Cristiano Ronaldo</td>\n",
       "      <td>405000.0</td>\n",
       "    </tr>\n",
       "    <tr>\n",
       "      <th>8</th>\n",
       "      <td>Sergio Ramos</td>\n",
       "      <td>380000.0</td>\n",
       "    </tr>\n",
       "  </tbody>\n",
       "</table>\n",
       "</div>"
      ],
      "text/plain": [
       "                name  wage_dollar\n",
       "0           L. Messi     565000.0\n",
       "7          L. Suárez     455000.0\n",
       "6          L. Modrić     420000.0\n",
       "1  Cristiano Ronaldo     405000.0\n",
       "8       Sergio Ramos     380000.0"
      ]
     },
     "execution_count": 6,
     "metadata": {},
     "output_type": "execute_result"
    }
   ],
   "source": [
    "def value_in_dollar(value):\n",
    "\n",
    "    return float(value[1:-1]) * 1000\n",
    "\n",
    "# denotes wage in dollar term\n",
    "df['wage_dollar'] = df['wage'].apply(lambda row: value_in_dollar(row))\n",
    "\n",
    "df.sort_values(by='wage_dollar', ascending=False).head(5)[['name', 'wage_dollar']]"
   ]
  },
  {
   "cell_type": "markdown",
   "metadata": {},
   "source": [
    "From the table above, we see that \"L. Messi\" from FC Barcelona grosses €565k a week. In a distant second is teammate \"L. Suárez\" at €455k a week followed closely by rival player \"L. Modrić\" of Real Madrid."
   ]
  },
  {
   "cell_type": "markdown",
   "metadata": {},
   "source": [
    "### `position` - player's playing position\n",
    "\n",
    "All possible positions are summarised as follows:"
   ]
  },
  {
   "cell_type": "code",
   "execution_count": 7,
   "metadata": {},
   "outputs": [
    {
     "data": {
      "text/plain": [
       "array(['RF', 'ST', 'LW', 'GK', 'RCM', 'LF', 'RS', 'RCB', 'LCM', 'CB',\n",
       "       'LDM', 'CAM', 'CDM', 'LS', 'LCB', 'RM', 'LAM', 'LM', 'LB', 'RDM',\n",
       "       'RW', 'CM', 'RB', 'RAM', 'CF', 'RWB', 'LWB'], dtype=object)"
      ]
     },
     "execution_count": 7,
     "metadata": {},
     "output_type": "execute_result"
    }
   ],
   "source": [
    "df['position'].unique()"
   ]
  },
  {
   "cell_type": "markdown",
   "metadata": {},
   "source": [
    "For simplicity, I summarise playing positions across eight broad categories:"
   ]
  },
  {
   "cell_type": "code",
   "execution_count": 8,
   "metadata": {},
   "outputs": [],
   "source": [
    "# create position category\n",
    "def position_category(row):\n",
    "\n",
    "    if row == 'GK':\n",
    "        position = 'goalkeeper'\n",
    "    elif row in ['RB', 'RWB']:\n",
    "        position = 'right_back'\n",
    "    elif row in ['LB', 'LWB']:\n",
    "        position = 'left_back'\n",
    "    elif 'CB' in row:\n",
    "        position = 'center_back'\n",
    "    elif row in ['RM', 'RW']:\n",
    "        position = 'right_wing'\n",
    "    elif row in ['LM', 'LW']:\n",
    "        position = 'left_wing'\n",
    "    elif any([pos in row for pos in ['AM', 'CM', 'DM']]):\n",
    "        position = 'center_mid'\n",
    "    else:\n",
    "        position = 'forward'\n",
    "\n",
    "    return position\n",
    "\n",
    "# create position category\n",
    "df['position_category'] = df['position'].apply(lambda row: position_category(row))"
   ]
  },
  {
   "cell_type": "markdown",
   "metadata": {},
   "source": [
    "To verify the else-statement has captured appropriate `position` values for 'forward', I perform a groupby:"
   ]
  },
  {
   "cell_type": "code",
   "execution_count": 9,
   "metadata": {},
   "outputs": [
    {
     "data": {
      "text/plain": [
       "position_category\n",
       "center_back                                  [RCB, CB, LCB]\n",
       "center_mid     [RCM, LCM, LDM, CAM, CDM, LAM, RDM, CM, RAM]\n",
       "forward                            [RF, ST, LF, RS, LS, CF]\n",
       "goalkeeper                                             [GK]\n",
       "left_back                                         [LB, LWB]\n",
       "left_wing                                          [LW, LM]\n",
       "right_back                                        [RB, RWB]\n",
       "right_wing                                         [RM, RW]\n",
       "Name: position, dtype: object"
      ]
     },
     "execution_count": 9,
     "metadata": {},
     "output_type": "execute_result"
    }
   ],
   "source": [
    "df.groupby('position_category')['position'].unique()"
   ]
  },
  {
   "cell_type": "markdown",
   "metadata": {},
   "source": [
    "So far so good!"
   ]
  },
  {
   "cell_type": "markdown",
   "metadata": {},
   "source": [
    "## Step 5: Linear Programming"
   ]
  },
  {
   "cell_type": "markdown",
   "metadata": {},
   "source": [
    "### A: Create problem variable\n",
    "\n",
    "Recall the optimisation problem is a maximisation problem. Therefore, the problem variable is initialised as:"
   ]
  },
  {
   "cell_type": "code",
   "execution_count": 10,
   "metadata": {},
   "outputs": [],
   "source": [
    "# create problem variable\n",
    "prob = p.LpProblem('overall_team', p.LpMaximize)"
   ]
  },
  {
   "cell_type": "markdown",
   "metadata": {},
   "source": [
    "### B: Create decision variable\n",
    "\n",
    "Decision variables are the quantity variables that will be determined to solve a optimisation problem. In this scenario, player is the decision variable represented by `df['name']` in my Pandas dataframe. \n",
    "\n",
    "Further, I provide bounds `lowBound=0` and `upBound=1` to represent a non-negativity lower bound (i.e. optimal solution cannot provide a negative quantity of a player) and upper bound of one (i.e. a player can be selected a maximum of one time), respectively, rather than specifying the bound as an explicit constrraint.\n",
    "\n",
    "Lastly, I specify `cat='Integer'` as I only want integer weights. Noting the bounds I have provided above, my solution will only return a weight of nil (non-selection) or one (selection) for every player:"
   ]
  },
  {
   "cell_type": "code",
   "execution_count": 11,
   "metadata": {},
   "outputs": [],
   "source": [
    "# create decision variable\n",
    "names = p.LpVariable.dicts(name='x', indexs=df['name'], lowBound=0, upBound=1, cat='Integer')"
   ]
  },
  {
   "cell_type": "markdown",
   "metadata": {},
   "source": [
    "### C: Create objective function\n",
    "\n",
    "The objective function is to maximise the rating of players in a team:"
   ]
  },
  {
   "cell_type": "code",
   "execution_count": 12,
   "metadata": {},
   "outputs": [],
   "source": [
    "# create dictionary with players' name as key and overall rating as key value\n",
    "overall = dict(zip(df['name'], df['overall']))\n",
    "\n",
    "# create objective function\n",
    "prob += p.lpSum([overall[i] * names[i] for i in df['name']])"
   ]
  },
  {
   "cell_type": "markdown",
   "metadata": {},
   "source": [
    "### D: Create constraints\n",
    "\n",
    "Constraints are summarised as follows:\n",
    "\n",
    "1.&emsp;Sum of players' wage must be less than club's wage budget.<br>\n",
    "2.&emsp;Fixed number of players for playing positions.<br>\n",
    "3.&emsp;No more than two players from the same club.\n",
    "\n",
    "For constraint (1), I assume a wage budget of €261,500 which corresponds to the 75th percentile:"
   ]
  },
  {
   "cell_type": "code",
   "execution_count": 13,
   "metadata": {},
   "outputs": [
    {
     "data": {
      "text/plain": [
       "count    6.510000e+02\n",
       "mean     2.720384e+05\n",
       "std      4.994448e+05\n",
       "min      1.900000e+04\n",
       "25%      6.050000e+04\n",
       "50%      1.080000e+05\n",
       "75%      2.615000e+05\n",
       "max      5.017000e+06\n",
       "Name: wage_dollar, dtype: float64"
      ]
     },
     "execution_count": 13,
     "metadata": {},
     "output_type": "execute_result"
    }
   ],
   "source": [
    "df.groupby('club')['wage_dollar'].sum().describe()"
   ]
  },
  {
   "cell_type": "markdown",
   "metadata": {},
   "source": [
    "Constraint (2) actually describes multiple constraints relating to number of desired players for each playing position. \n",
    "\n",
    "On average, clubs with a wage budget that fall between the 70th (€215,000) and 80th percentile (€355,000) have three goalkeepers, two right backs, two left backs, five center backs, two right wings, three left wings, seven center midfielders and four forwards. I design my constraints for player position requirements around these averages."
   ]
  },
  {
   "cell_type": "code",
   "execution_count": 14,
   "metadata": {},
   "outputs": [],
   "source": [
    "# create dictionary with players' name as key and wage as key value\n",
    "wage = dict(zip(df['name'], df['wage_dollar']))\n",
    "\n",
    "# create dictionary with players' name as key and position category as key value\n",
    "position = dict(zip(df['name'], df['position_category']))\n",
    "\n",
    "# create constraint for wage\n",
    "prob += p.lpSum([wage[i] * names[i] for i in df['name']]) <= 261500\n",
    "\n",
    "# create constraint for number of goalkeeper(s)\n",
    "prob += p.lpSum([names[i] for i in df['name'] if position[i] == 'goalkeeper']) == 3\n",
    "\n",
    "# create constraint for number of right back(s)\n",
    "prob += p.lpSum([names[i] for i in df['name'] if position[i] == 'right_back']) == 2\n",
    "\n",
    "# create constraint for number of left back(s)\n",
    "prob += p.lpSum([names[i] for i in df['name'] if position[i] == 'left_back']) == 2\n",
    "\n",
    "# create constraint for number of center back(s)\n",
    "prob += p.lpSum([names[i] for i in df['name'] if position[i] == 'center_back']) == 5\n",
    "\n",
    "# create constraint for number of right wing(s)\n",
    "prob += p.lpSum([names[i] for i in df['name'] if position[i] == 'right_wing']) == 2\n",
    "\n",
    "# create constraint for number of left wing(s)\n",
    "prob += p.lpSum([names[i] for i in df['name'] if position[i] == 'left_wing']) == 3\n",
    "\n",
    "# create constraint for number of center midfielders(s)\n",
    "prob += p.lpSum([names[i] for i in df['name'] if position[i] == 'center_mid']) == 7\n",
    "\n",
    "# create constraint for number of forward(s)\n",
    "prob += p.lpSum([names[i] for i in df['name'] if position[i] == 'forward']) == 4\n",
    "\n",
    "# create dictionary with players' name as key and club as key value\n",
    "club = dict(zip(df['name'], df['club']))"
   ]
  },
  {
   "cell_type": "markdown",
   "metadata": {},
   "source": [
    "Constraint (3) specifies the maximum number of players from the same club to be no more than two:"
   ]
  },
  {
   "cell_type": "code",
   "execution_count": 15,
   "metadata": {},
   "outputs": [],
   "source": [
    "# create constraint for number of players in same club\n",
    "for club_name in df['club'].unique():\n",
    "    prob += p.lpSum([names[i] for i in df['name'] if club[i] == club_name]) <= 2"
   ]
  },
  {
   "cell_type": "markdown",
   "metadata": {},
   "source": [
    "### E: Run solver\n",
    "\n",
    "Now that the decision variable, objective function and constraints are defined, I will solve for the optimisation problem:"
   ]
  },
  {
   "cell_type": "code",
   "execution_count": 16,
   "metadata": {},
   "outputs": [
    {
     "data": {
      "text/plain": [
       "1"
      ]
     },
     "execution_count": 16,
     "metadata": {},
     "output_type": "execute_result"
    }
   ],
   "source": [
    "# run solver\n",
    "prob.solve()"
   ]
  },
  {
   "cell_type": "markdown",
   "metadata": {},
   "source": [
    "Which corresponds to \"Optimal\" (i.e. optimal solution):"
   ]
  },
  {
   "cell_type": "code",
   "execution_count": 17,
   "metadata": {},
   "outputs": [
    {
     "name": "stdout",
     "output_type": "stream",
     "text": [
      "Mapping: {0: 'Not Solved', 1: 'Optimal', -1: 'Infeasible', -2: 'Unbounded', -3: 'Undefined'}\n",
      "Outcome: Optimal\n",
      "Total overall rating: 2277.0\n"
     ]
    }
   ],
   "source": [
    "print('Mapping:', p.LpStatus)\n",
    "print('Outcome:', p.LpStatus[prob.solve()])\n",
    "print('Total overall rating:', prob.objective.value())"
   ]
  },
  {
   "cell_type": "markdown",
   "metadata": {},
   "source": [
    "The optimal decision consists of players that carry a non-zero weight (in this scenario, only weights of zero and one are applicable per my defined bounds for the decision variable). The following code saves player names into a dictionary `optimal_team`:"
   ]
  },
  {
   "cell_type": "code",
   "execution_count": 18,
   "metadata": {},
   "outputs": [
    {
     "name": "stdout",
     "output_type": "stream",
     "text": [
      "{x_Alex_Telles: 1.0, x_Anderson_Talisca: 1.0, x_B._Höwedes: 1.0, x_B._Natcho: 1.0, x_B._Schweinsteiger: 1.0, x_B._Verbič: 1.0, x_Bruno_Fernandes: 1.0, x_Casillas: 1.0, x_David_Villa: 1.0, x_E._Viviano: 1.0, x_Grimaldo: 1.0, x_I._Akinfeev: 1.0, x_Iniesta: 1.0, x_Jardel: 1.0, x_Léo_Matos: 1.0, x_M._de_Ligt: 1.0, x_Marlos: 1.0, x_Mário_Fernandes: 1.0, x_N._Gaitán: 1.0, x_P._Wernbloom: 1.0, x_R._Eremenko: 1.0, x_R._Zobnin: 1.0, x_S._Giovinco: 1.0, x_Taison: 1.0, x_V._Tsygankov: 1.0, x_V._Ćorluka: 1.0, x_Y._Carrasco: 1.0, x_Z._Ibrahimović: 1.0}\n"
     ]
    }
   ],
   "source": [
    "optimal_team = {}\n",
    "for v in prob.variables():\n",
    "    if v.varValue > 0:\n",
    "        optimal_team[v] = v.varValue\n",
    "        \n",
    "print(optimal_team)"
   ]
  },
  {
   "cell_type": "code",
   "execution_count": 19,
   "metadata": {},
   "outputs": [
    {
     "data": {
      "text/html": [
       "<div>\n",
       "<style scoped>\n",
       "    .dataframe tbody tr th:only-of-type {\n",
       "        vertical-align: middle;\n",
       "    }\n",
       "\n",
       "    .dataframe tbody tr th {\n",
       "        vertical-align: top;\n",
       "    }\n",
       "\n",
       "    .dataframe thead th {\n",
       "        text-align: right;\n",
       "    }\n",
       "</style>\n",
       "<table border=\"1\" class=\"dataframe\">\n",
       "  <thead>\n",
       "    <tr style=\"text-align: right;\">\n",
       "      <th></th>\n",
       "      <th>name</th>\n",
       "      <th>age</th>\n",
       "      <th>overall</th>\n",
       "      <th>potential</th>\n",
       "      <th>club</th>\n",
       "      <th>wage</th>\n",
       "      <th>position</th>\n",
       "      <th>wage_dollar</th>\n",
       "      <th>position_category</th>\n",
       "    </tr>\n",
       "  </thead>\n",
       "  <tbody>\n",
       "    <tr>\n",
       "      <th>76</th>\n",
       "      <td>Iniesta</td>\n",
       "      <td>34</td>\n",
       "      <td>86</td>\n",
       "      <td>86</td>\n",
       "      <td>Vissel Kobe</td>\n",
       "      <td>€21K</td>\n",
       "      <td>LF</td>\n",
       "      <td>21000.0</td>\n",
       "      <td>forward</td>\n",
       "    </tr>\n",
       "    <tr>\n",
       "      <th>109</th>\n",
       "      <td>Z. Ibrahimović</td>\n",
       "      <td>36</td>\n",
       "      <td>85</td>\n",
       "      <td>85</td>\n",
       "      <td>LA Galaxy</td>\n",
       "      <td>€15K</td>\n",
       "      <td>RS</td>\n",
       "      <td>15000.0</td>\n",
       "      <td>forward</td>\n",
       "    </tr>\n",
       "    <tr>\n",
       "      <th>112</th>\n",
       "      <td>Alex Telles</td>\n",
       "      <td>25</td>\n",
       "      <td>84</td>\n",
       "      <td>87</td>\n",
       "      <td>FC Porto</td>\n",
       "      <td>€22K</td>\n",
       "      <td>LB</td>\n",
       "      <td>22000.0</td>\n",
       "      <td>left_back</td>\n",
       "    </tr>\n",
       "    <tr>\n",
       "      <th>114</th>\n",
       "      <td>Bruno Fernandes</td>\n",
       "      <td>23</td>\n",
       "      <td>84</td>\n",
       "      <td>88</td>\n",
       "      <td>Sporting CP</td>\n",
       "      <td>€22K</td>\n",
       "      <td>LCM</td>\n",
       "      <td>22000.0</td>\n",
       "      <td>center_mid</td>\n",
       "    </tr>\n",
       "    <tr>\n",
       "      <th>166</th>\n",
       "      <td>Anderson Talisca</td>\n",
       "      <td>24</td>\n",
       "      <td>83</td>\n",
       "      <td>90</td>\n",
       "      <td>Guangzhou Evergrande Taobao FC</td>\n",
       "      <td>€18K</td>\n",
       "      <td>CAM</td>\n",
       "      <td>18000.0</td>\n",
       "      <td>center_mid</td>\n",
       "    </tr>\n",
       "    <tr>\n",
       "      <th>173</th>\n",
       "      <td>Y. Carrasco</td>\n",
       "      <td>24</td>\n",
       "      <td>83</td>\n",
       "      <td>86</td>\n",
       "      <td>Dalian YiFang FC</td>\n",
       "      <td>€20K</td>\n",
       "      <td>LM</td>\n",
       "      <td>20000.0</td>\n",
       "      <td>left_wing</td>\n",
       "    </tr>\n",
       "    <tr>\n",
       "      <th>226</th>\n",
       "      <td>M. de Ligt</td>\n",
       "      <td>18</td>\n",
       "      <td>82</td>\n",
       "      <td>91</td>\n",
       "      <td>Ajax</td>\n",
       "      <td>€11K</td>\n",
       "      <td>RCB</td>\n",
       "      <td>11000.0</td>\n",
       "      <td>center_back</td>\n",
       "    </tr>\n",
       "    <tr>\n",
       "      <th>276</th>\n",
       "      <td>Mário Fernandes</td>\n",
       "      <td>27</td>\n",
       "      <td>82</td>\n",
       "      <td>82</td>\n",
       "      <td>PFC CSKA Moscow</td>\n",
       "      <td>€1K</td>\n",
       "      <td>RB</td>\n",
       "      <td>1000.0</td>\n",
       "      <td>right_back</td>\n",
       "    </tr>\n",
       "    <tr>\n",
       "      <th>286</th>\n",
       "      <td>Taison</td>\n",
       "      <td>30</td>\n",
       "      <td>82</td>\n",
       "      <td>82</td>\n",
       "      <td>Shakhtar Donetsk</td>\n",
       "      <td>€1K</td>\n",
       "      <td>LM</td>\n",
       "      <td>1000.0</td>\n",
       "      <td>left_wing</td>\n",
       "    </tr>\n",
       "    <tr>\n",
       "      <th>288</th>\n",
       "      <td>Marlos</td>\n",
       "      <td>30</td>\n",
       "      <td>82</td>\n",
       "      <td>82</td>\n",
       "      <td>Shakhtar Donetsk</td>\n",
       "      <td>€1K</td>\n",
       "      <td>RM</td>\n",
       "      <td>1000.0</td>\n",
       "      <td>right_wing</td>\n",
       "    </tr>\n",
       "    <tr>\n",
       "      <th>293</th>\n",
       "      <td>S. Giovinco</td>\n",
       "      <td>31</td>\n",
       "      <td>82</td>\n",
       "      <td>82</td>\n",
       "      <td>Toronto FC</td>\n",
       "      <td>€15K</td>\n",
       "      <td>CF</td>\n",
       "      <td>15000.0</td>\n",
       "      <td>forward</td>\n",
       "    </tr>\n",
       "    <tr>\n",
       "      <th>295</th>\n",
       "      <td>N. Gaitán</td>\n",
       "      <td>30</td>\n",
       "      <td>82</td>\n",
       "      <td>82</td>\n",
       "      <td>Dalian YiFang FC</td>\n",
       "      <td>€22K</td>\n",
       "      <td>CAM</td>\n",
       "      <td>22000.0</td>\n",
       "      <td>center_mid</td>\n",
       "    </tr>\n",
       "    <tr>\n",
       "      <th>301</th>\n",
       "      <td>V. Ćorluka</td>\n",
       "      <td>32</td>\n",
       "      <td>82</td>\n",
       "      <td>82</td>\n",
       "      <td>Lokomotiv Moscow</td>\n",
       "      <td>€1K</td>\n",
       "      <td>LCB</td>\n",
       "      <td>1000.0</td>\n",
       "      <td>center_back</td>\n",
       "    </tr>\n",
       "    <tr>\n",
       "      <th>308</th>\n",
       "      <td>Jardel</td>\n",
       "      <td>32</td>\n",
       "      <td>82</td>\n",
       "      <td>82</td>\n",
       "      <td>SL Benfica</td>\n",
       "      <td>€17K</td>\n",
       "      <td>LCB</td>\n",
       "      <td>17000.0</td>\n",
       "      <td>center_back</td>\n",
       "    </tr>\n",
       "    <tr>\n",
       "      <th>310</th>\n",
       "      <td>E. Viviano</td>\n",
       "      <td>32</td>\n",
       "      <td>82</td>\n",
       "      <td>82</td>\n",
       "      <td>Sporting CP</td>\n",
       "      <td>€15K</td>\n",
       "      <td>GK</td>\n",
       "      <td>15000.0</td>\n",
       "      <td>goalkeeper</td>\n",
       "    </tr>\n",
       "    <tr>\n",
       "      <th>315</th>\n",
       "      <td>David Villa</td>\n",
       "      <td>36</td>\n",
       "      <td>82</td>\n",
       "      <td>82</td>\n",
       "      <td>New York City FC</td>\n",
       "      <td>€12K</td>\n",
       "      <td>ST</td>\n",
       "      <td>12000.0</td>\n",
       "      <td>forward</td>\n",
       "    </tr>\n",
       "    <tr>\n",
       "      <th>318</th>\n",
       "      <td>Casillas</td>\n",
       "      <td>37</td>\n",
       "      <td>82</td>\n",
       "      <td>82</td>\n",
       "      <td>FC Porto</td>\n",
       "      <td>€10K</td>\n",
       "      <td>GK</td>\n",
       "      <td>10000.0</td>\n",
       "      <td>goalkeeper</td>\n",
       "    </tr>\n",
       "    <tr>\n",
       "      <th>342</th>\n",
       "      <td>Grimaldo</td>\n",
       "      <td>22</td>\n",
       "      <td>81</td>\n",
       "      <td>87</td>\n",
       "      <td>SL Benfica</td>\n",
       "      <td>€14K</td>\n",
       "      <td>LB</td>\n",
       "      <td>14000.0</td>\n",
       "      <td>left_back</td>\n",
       "    </tr>\n",
       "    <tr>\n",
       "      <th>386</th>\n",
       "      <td>B. Höwedes</td>\n",
       "      <td>30</td>\n",
       "      <td>81</td>\n",
       "      <td>81</td>\n",
       "      <td>Lokomotiv Moscow</td>\n",
       "      <td>€1K</td>\n",
       "      <td>RCB</td>\n",
       "      <td>1000.0</td>\n",
       "      <td>center_back</td>\n",
       "    </tr>\n",
       "    <tr>\n",
       "      <th>541</th>\n",
       "      <td>I. Akinfeev</td>\n",
       "      <td>32</td>\n",
       "      <td>80</td>\n",
       "      <td>80</td>\n",
       "      <td>PFC CSKA Moscow</td>\n",
       "      <td>€1K</td>\n",
       "      <td>GK</td>\n",
       "      <td>1000.0</td>\n",
       "      <td>goalkeeper</td>\n",
       "    </tr>\n",
       "    <tr>\n",
       "      <th>550</th>\n",
       "      <td>B. Schweinsteiger</td>\n",
       "      <td>33</td>\n",
       "      <td>80</td>\n",
       "      <td>80</td>\n",
       "      <td>Chicago Fire</td>\n",
       "      <td>€11K</td>\n",
       "      <td>LCB</td>\n",
       "      <td>11000.0</td>\n",
       "      <td>center_back</td>\n",
       "    </tr>\n",
       "    <tr>\n",
       "      <th>555</th>\n",
       "      <td>V. Tsygankov</td>\n",
       "      <td>20</td>\n",
       "      <td>79</td>\n",
       "      <td>86</td>\n",
       "      <td>Dynamo Kyiv</td>\n",
       "      <td>€1K</td>\n",
       "      <td>RM</td>\n",
       "      <td>1000.0</td>\n",
       "      <td>right_wing</td>\n",
       "    </tr>\n",
       "    <tr>\n",
       "      <th>574</th>\n",
       "      <td>B. Verbič</td>\n",
       "      <td>24</td>\n",
       "      <td>79</td>\n",
       "      <td>81</td>\n",
       "      <td>Dynamo Kyiv</td>\n",
       "      <td>€1K</td>\n",
       "      <td>LM</td>\n",
       "      <td>1000.0</td>\n",
       "      <td>left_wing</td>\n",
       "    </tr>\n",
       "    <tr>\n",
       "      <th>597</th>\n",
       "      <td>R. Zobnin</td>\n",
       "      <td>24</td>\n",
       "      <td>79</td>\n",
       "      <td>86</td>\n",
       "      <td>Spartak Moscow</td>\n",
       "      <td>€1K</td>\n",
       "      <td>LDM</td>\n",
       "      <td>1000.0</td>\n",
       "      <td>center_mid</td>\n",
       "    </tr>\n",
       "    <tr>\n",
       "      <th>701</th>\n",
       "      <td>P. Wernbloom</td>\n",
       "      <td>32</td>\n",
       "      <td>79</td>\n",
       "      <td>79</td>\n",
       "      <td>PAOK</td>\n",
       "      <td>€1K</td>\n",
       "      <td>CDM</td>\n",
       "      <td>1000.0</td>\n",
       "      <td>center_mid</td>\n",
       "    </tr>\n",
       "    <tr>\n",
       "      <th>848</th>\n",
       "      <td>B. Natcho</td>\n",
       "      <td>30</td>\n",
       "      <td>78</td>\n",
       "      <td>78</td>\n",
       "      <td>Olympiacos CFP</td>\n",
       "      <td>€1K</td>\n",
       "      <td>CM</td>\n",
       "      <td>1000.0</td>\n",
       "      <td>center_mid</td>\n",
       "    </tr>\n",
       "    <tr>\n",
       "      <th>885</th>\n",
       "      <td>R. Eremenko</td>\n",
       "      <td>31</td>\n",
       "      <td>78</td>\n",
       "      <td>78</td>\n",
       "      <td>Spartak Moscow</td>\n",
       "      <td>€1K</td>\n",
       "      <td>CAM</td>\n",
       "      <td>1000.0</td>\n",
       "      <td>center_mid</td>\n",
       "    </tr>\n",
       "    <tr>\n",
       "      <th>1526</th>\n",
       "      <td>Léo Matos</td>\n",
       "      <td>32</td>\n",
       "      <td>76</td>\n",
       "      <td>76</td>\n",
       "      <td>PAOK</td>\n",
       "      <td>€1K</td>\n",
       "      <td>RB</td>\n",
       "      <td>1000.0</td>\n",
       "      <td>right_back</td>\n",
       "    </tr>\n",
       "  </tbody>\n",
       "</table>\n",
       "</div>"
      ],
      "text/plain": [
       "                   name  age  overall  potential  \\\n",
       "76              Iniesta   34       86         86   \n",
       "109      Z. Ibrahimović   36       85         85   \n",
       "112         Alex Telles   25       84         87   \n",
       "114     Bruno Fernandes   23       84         88   \n",
       "166    Anderson Talisca   24       83         90   \n",
       "173         Y. Carrasco   24       83         86   \n",
       "226          M. de Ligt   18       82         91   \n",
       "276     Mário Fernandes   27       82         82   \n",
       "286              Taison   30       82         82   \n",
       "288              Marlos   30       82         82   \n",
       "293         S. Giovinco   31       82         82   \n",
       "295           N. Gaitán   30       82         82   \n",
       "301          V. Ćorluka   32       82         82   \n",
       "308              Jardel   32       82         82   \n",
       "310          E. Viviano   32       82         82   \n",
       "315         David Villa   36       82         82   \n",
       "318            Casillas   37       82         82   \n",
       "342            Grimaldo   22       81         87   \n",
       "386          B. Höwedes   30       81         81   \n",
       "541         I. Akinfeev   32       80         80   \n",
       "550   B. Schweinsteiger   33       80         80   \n",
       "555        V. Tsygankov   20       79         86   \n",
       "574           B. Verbič   24       79         81   \n",
       "597           R. Zobnin   24       79         86   \n",
       "701        P. Wernbloom   32       79         79   \n",
       "848           B. Natcho   30       78         78   \n",
       "885         R. Eremenko   31       78         78   \n",
       "1526          Léo Matos   32       76         76   \n",
       "\n",
       "                                club  wage position  wage_dollar  \\\n",
       "76                       Vissel Kobe  €21K       LF      21000.0   \n",
       "109                        LA Galaxy  €15K       RS      15000.0   \n",
       "112                         FC Porto  €22K       LB      22000.0   \n",
       "114                      Sporting CP  €22K      LCM      22000.0   \n",
       "166   Guangzhou Evergrande Taobao FC  €18K      CAM      18000.0   \n",
       "173                 Dalian YiFang FC  €20K       LM      20000.0   \n",
       "226                             Ajax  €11K      RCB      11000.0   \n",
       "276                  PFC CSKA Moscow   €1K       RB       1000.0   \n",
       "286                 Shakhtar Donetsk   €1K       LM       1000.0   \n",
       "288                 Shakhtar Donetsk   €1K       RM       1000.0   \n",
       "293                       Toronto FC  €15K       CF      15000.0   \n",
       "295                 Dalian YiFang FC  €22K      CAM      22000.0   \n",
       "301                 Lokomotiv Moscow   €1K      LCB       1000.0   \n",
       "308                       SL Benfica  €17K      LCB      17000.0   \n",
       "310                      Sporting CP  €15K       GK      15000.0   \n",
       "315                 New York City FC  €12K       ST      12000.0   \n",
       "318                         FC Porto  €10K       GK      10000.0   \n",
       "342                       SL Benfica  €14K       LB      14000.0   \n",
       "386                 Lokomotiv Moscow   €1K      RCB       1000.0   \n",
       "541                  PFC CSKA Moscow   €1K       GK       1000.0   \n",
       "550                     Chicago Fire  €11K      LCB      11000.0   \n",
       "555                      Dynamo Kyiv   €1K       RM       1000.0   \n",
       "574                      Dynamo Kyiv   €1K       LM       1000.0   \n",
       "597                   Spartak Moscow   €1K      LDM       1000.0   \n",
       "701                             PAOK   €1K      CDM       1000.0   \n",
       "848                   Olympiacos CFP   €1K       CM       1000.0   \n",
       "885                   Spartak Moscow   €1K      CAM       1000.0   \n",
       "1526                            PAOK   €1K       RB       1000.0   \n",
       "\n",
       "     position_category  \n",
       "76             forward  \n",
       "109            forward  \n",
       "112          left_back  \n",
       "114         center_mid  \n",
       "166         center_mid  \n",
       "173          left_wing  \n",
       "226        center_back  \n",
       "276         right_back  \n",
       "286          left_wing  \n",
       "288         right_wing  \n",
       "293            forward  \n",
       "295         center_mid  \n",
       "301        center_back  \n",
       "308        center_back  \n",
       "310         goalkeeper  \n",
       "315            forward  \n",
       "318         goalkeeper  \n",
       "342          left_back  \n",
       "386        center_back  \n",
       "541         goalkeeper  \n",
       "550        center_back  \n",
       "555         right_wing  \n",
       "574          left_wing  \n",
       "597         center_mid  \n",
       "701         center_mid  \n",
       "848         center_mid  \n",
       "885         center_mid  \n",
       "1526        right_back  "
      ]
     },
     "execution_count": 19,
     "metadata": {},
     "output_type": "execute_result"
    }
   ],
   "source": [
    "df[df['name'].isin([player.name[2:].replace('_', ' ') for player in optimal_team])]"
   ]
  },
  {
   "cell_type": "markdown",
   "metadata": {},
   "source": [
    "## Step 6: Evaluation of optimal solution\n",
    "\n",
    "For a final exercise, I compare the overall rating of the optimal team (2277) with a budget at the 75th percentile of the Fifa 19 universe against clubs with a wage budget between the 75th percentile and 85th percentile. This comparison provides some insight into the efficiency of clubs' spending if we assume they are solely focused on maximising the overall rating of the team. In reality, this assumption is unlikely to hold as there are other factors (e.g. teamwork, loyalty, reputation, etc.) that contribute to players' selection not considered in my model.\n",
    "\n",
    "I am cautious of an enlarged range as the overall rating for a team can increase with a larger wage budget by affording more players and not necessarily from the possession of higher-quality players.\n",
    "\n",
    "Among 65 clubs, only Frosinone (2298; 80th percentile wage budget) and Sporting CP (2284; 85th percentile wage budget) demonstrate a higher aggregate overall rating (untabulated)."
   ]
  },
  {
   "cell_type": "markdown",
   "metadata": {},
   "source": [
    "## Miscellaneous: Optimal overall team rating across different wages"
   ]
  },
  {
   "cell_type": "code",
   "execution_count": 24,
   "metadata": {},
   "outputs": [],
   "source": [
    "class OptimalTeam:\n",
    "\n",
    "    @staticmethod\n",
    "    # create position category\n",
    "    def position_category(row):\n",
    "\n",
    "        if row == 'GK':\n",
    "            position = 'goalkeeper'\n",
    "        elif row in ['RB', 'RWB']:\n",
    "            position = 'right_back'\n",
    "        elif row in ['LB', 'LWB']:\n",
    "            position = 'left_back'\n",
    "        elif 'CB' in row:\n",
    "            position = 'center_back'\n",
    "        elif row in ['RM', 'RW']:\n",
    "            position = 'right_wing'\n",
    "        elif row in ['LM', 'LW']:\n",
    "            position = 'left_wing'\n",
    "        elif any([pos in row for pos in ['AM', 'CM', 'DM']]):\n",
    "            position = 'center_mid'\n",
    "        else:\n",
    "            position = 'forward'\n",
    "\n",
    "        return position\n",
    "\n",
    "    # denotes players' market value in dollar term\n",
    "    @staticmethod\n",
    "    def value_in_dollar(value):\n",
    "        return float(value[1:-1]) * 1000\n",
    "\n",
    "    def __init__(self):\n",
    "\n",
    "        columns = ['Name', 'Age', 'Club', 'Wage', 'Overall', 'Potential', 'Position']\n",
    "\n",
    "        self.df = pd.read_csv('archive.zip', usecols=columns)\n",
    "\n",
    "        # remove rows with missing values\n",
    "        self.df = self.df.dropna()\n",
    "\n",
    "        # lower case column names and replace space with underscore\n",
    "        self.df.columns = [column.lower().replace(' ', '_') for column in self.df.columns]\n",
    "\n",
    "        # denotes wage in dollar term\n",
    "        self.df['wage_dollar'] = self.df['wage'].apply(lambda row: self.value_in_dollar(row))\n",
    "\n",
    "        # create position category\n",
    "        self.df['position_category'] = self.df['position'].apply(lambda row: self.position_category(row))\n",
    "\n",
    "    def maximise_overall(self, max_wage):\n",
    "\n",
    "        df_copy = self.df.copy()\n",
    "\n",
    "        # create dictionary with players' name as key and overall rating as key value\n",
    "        overall = dict(zip(df_copy['name'], df_copy['overall']))\n",
    "\n",
    "        # create dictionary with players' name as key and wage as key value\n",
    "        wage = dict(zip(df_copy['name'], df_copy['wage_dollar']))\n",
    "\n",
    "        # create dictionary with players' name as key and position category as key value\n",
    "        position = dict(zip(df_copy['name'], df_copy['position_category']))\n",
    "\n",
    "        # create problem variable\n",
    "        prob = p.LpProblem('overall_team', p.LpMaximize)\n",
    "\n",
    "        # create decision variable\n",
    "        names = p.LpVariable.dicts(name='x', indexs=df_copy['name'], lowBound=0, upBound=1, cat='Integer')\n",
    "\n",
    "        # create objective function\n",
    "        prob += p.lpSum([overall[i] * names[i] for i in df_copy['name']])\n",
    "\n",
    "        # create constraint for wage\n",
    "        prob += p.lpSum([wage[i] * names[i] for i in df_copy['name']]) <= max_wage\n",
    "\n",
    "        # create constraint for number of goalkeeper(s)\n",
    "        prob += p.lpSum([names[i] for i in df_copy['name'] if position[i] == 'goalkeeper']) == 3\n",
    "\n",
    "        # create constraint for number of right back(s)\n",
    "        prob += p.lpSum([names[i] for i in df_copy['name'] if position[i] == 'right_back']) == 2\n",
    "\n",
    "        # create constraint for number of left back(s)\n",
    "        prob += p.lpSum([names[i] for i in df_copy['name'] if position[i] == 'left_back']) == 2\n",
    "\n",
    "        # create constraint for number of center back(s)\n",
    "        prob += p.lpSum([names[i] for i in df_copy['name'] if position[i] == 'center_back']) == 5\n",
    "\n",
    "        # create constraint for number of right wing(s)\n",
    "        prob += p.lpSum([names[i] for i in df_copy['name'] if position[i] == 'right_wing']) == 2\n",
    "\n",
    "        # create constraint for number of left wing(s)\n",
    "        prob += p.lpSum([names[i] for i in df_copy['name'] if position[i] == 'left_wing']) == 3\n",
    "\n",
    "        # create constraint for number of center midfielders(s)\n",
    "        prob += p.lpSum([names[i] for i in df_copy['name'] if position[i] == 'center_mid']) == 7\n",
    "\n",
    "        # create constraint for number of forward(s)\n",
    "        prob += p.lpSum([names[i] for i in df_copy['name'] if position[i] == 'forward']) == 4\n",
    "\n",
    "        # create dictionary with players' name as key and club as key value\n",
    "        club = dict(zip(df_copy['name'], df_copy['club']))\n",
    "\n",
    "        # create constraint for number of players in same club\n",
    "        for club_name in df_copy['club'].unique():\n",
    "            prob += p.lpSum([names[i] for i in df_copy['name'] if club[i] == club_name]) <= 2\n",
    "            \n",
    "        # run solver\n",
    "        prob.solve()\n",
    "\n",
    "        return prob\n",
    "\n",
    "\n",
    "# store optimal value across different wages into dictionary\n",
    "optimal_team = OptimalTeam()\n",
    "\n",
    "wage_score = {}\n",
    "start_wage = 100000\n",
    "end_wage = 2000000\n",
    "step_wage = 100000\n",
    "for wage in range(start_wage, end_wage + step_wage, step_wage):\n",
    "    prob_wage = optimal_team.maximise_overall(max_wage=wage)\n",
    "\n",
    "    # optimal solution only\n",
    "    if prob_wage.status == 1:\n",
    "        wage_score[wage] = prob_wage.objective.value()"
   ]
  },
  {
   "cell_type": "code",
   "execution_count": 25,
   "metadata": {},
   "outputs": [
    {
     "data": {
      "image/png": "[encoded data removed]",
      "text/plain": [
       "<Figure size 1440x720 with 1 Axes>"
      ]
     },
     "metadata": {
      "needs_background": "light"
     },
     "output_type": "display_data"
    }
   ],
   "source": [
    "import matplotlib.pyplot as plt\n",
    "import seaborn as sns\n",
    "\n",
    "fig, ax = plt.subplots(figsize=(20, 10))\n",
    "sns.scatterplot(x=wage_score.keys(), y=wage_score.values(), ax=ax)\n",
    "ax.set_ylabel('Optimal Overall Rating', fontsize=20, fontweight='bold')\n",
    "ax.set_xlabel('Club\\'s Wage Budget (€)', fontsize=20, fontweight='bold')\n",
    "ax.tick_params(axis=\"y\", labelsize=16)\n",
    "ax.tick_params(axis=\"x\", labelsize=16)\n",
    "ax.xaxis.set_major_formatter('{x:,.0f}')"
   ]
  },
  {
   "cell_type": "markdown",
   "metadata": {},
   "source": [
    "Not surprisingly, optimal overall rating increases with a larger wage budget as more players are available for selection. Although, the rate of increase decreases towards the higher-end wage budget because of fewer addition of new players with significant wages."
   ]
  },
  {
   "cell_type": "code",
   "execution_count": null,
   "metadata": {},
   "outputs": [],
   "source": []
  }
 ],
 "metadata": {
  "kernelspec": {
   "display_name": "Python 3",
   "language": "python",
   "name": "python3"
  },
  "language_info": {
   "codemirror_mode": {
    "name": "ipython",
    "version": 3
   },
   "file_extension": ".py",
   "mimetype": "text/x-python",
   "name": "python",
   "nbconvert_exporter": "python",
   "pygments_lexer": "ipython3",
   "version": "3.8.5"
  }
 },
 "nbformat": 4,
 "nbformat_minor": 4
}
